{
 "cells": [
  {
   "cell_type": "markdown",
   "metadata": {},
   "source": [
    "# MA5 Notebook Lab - Johanna Fan"
   ]
  },
  {
   "cell_type": "markdown",
   "metadata": {},
   "source": [
    "## Task 1\n",
    "Typeset the equations.  \n",
    "\n",
    "$log_2(a \\times b) = \\log_2 a + \\log_2 b$\n",
    "\n",
    "$log_2\\left(\\frac{a}{b}\\right) = \\log_2 a - \\log_2 b$\n",
    "\n",
    "$log_2(a^n) = n \\times \\log_2 a$\n",
    "\n",
    "$log_2\\left(\\frac{1}{a}\\right) = -\\log_2 a$\n",
    "\n",
    "The equations above are adapted from [Bramer's Textbook](https://www.amazon.com/Principles-Mining-Undergraduate-Computer-Science/dp/1447173066)"
   ]
  },
  {
   "cell_type": "markdown",
   "metadata": {},
   "source": [
    "## Task 2\n",
    "The formula for computing the mean $ \\mu $ of a sequence of numbers \\( x_1, x_2, ..., x_n \\) is given by:\n",
    "$\\mu = \\frac{1}{n} \\sum_{i=1}^n x_i$\n"
   ]
  },
  {
   "cell_type": "code",
   "execution_count": 3,
   "metadata": {},
   "outputs": [
    {
     "ename": "ModuleNotFoundError",
     "evalue": "No module named 'numpy'",
     "output_type": "error",
     "traceback": [
      "\u001b[0;31m---------------------------------------------------------------------------\u001b[0m",
      "\u001b[0;31mModuleNotFoundError\u001b[0m                       Traceback (most recent call last)",
      "Cell \u001b[0;32mIn[3], line 1\u001b[0m\n\u001b[0;32m----> 1\u001b[0m \u001b[38;5;28;01mimport\u001b[39;00m \u001b[38;5;21;01mnumpy\u001b[39;00m \u001b[38;5;28;01mas\u001b[39;00m \u001b[38;5;21;01mnp\u001b[39;00m\n\u001b[1;32m      2\u001b[0m \u001b[38;5;28;01mimport\u001b[39;00m \u001b[38;5;21;01mmatplotlib\u001b[39;00m\u001b[38;5;21;01m.\u001b[39;00m\u001b[38;5;21;01mpyplot\u001b[39;00m \u001b[38;5;28;01mas\u001b[39;00m \u001b[38;5;21;01mplt\u001b[39;00m\n\u001b[1;32m      4\u001b[0m \u001b[38;5;66;03m# Function to calculate mean\u001b[39;00m\n",
      "\u001b[0;31mModuleNotFoundError\u001b[0m: No module named 'numpy'"
     ]
    }
   ],
   "source": [
    "import numpy as np\n",
    "import matplotlib.pyplot as plt\n",
    "\n",
    "# Function to calculate mean\n",
    "def calculate_mean(numbers):\n",
    "    return np.sum(numbers) / len(numbers)\n",
    "\n",
    "# Generate two lists of 100 random numbers each\n",
    "list1 = np.random.rand(100)\n",
    "list2 = np.random.rand(100)\n",
    "\n",
    "# Calculate the mean of each list\n",
    "mean1 = calculate_mean(list1)\n",
    "mean2 = calculate_mean(list2)\n",
    "\n",
    "# Create a Matplotlib chart\n",
    "plt.figure(figsize=(10, 5))\n",
    "plt.scatter(range(100), list1, color='blue', label='List 1', alpha=0.5)\n",
    "plt.scatter(range(100), list2, color='green', label='List 2', alpha=0.5)\n",
    "# Mark the mean points\n",
    "plt.scatter([50], [mean1], color='red', label='Mean List 1', marker='o')\n",
    "plt.scatter([50], [mean2], color='orange', label='Mean List 2', marker='o')\n",
    "# Annotate the mean points\n",
    "plt.annotate('mean', xy=(50, mean1), xytext=(60, mean1 + 0.1),\n",
    "             arrowprops=dict(facecolor='black', shrink=0.05))\n",
    "plt.annotate('mean', xy=(50, mean2), xytext=(60, mean2 - 0.1),\n",
    "             arrowprops=dict(facecolor='black', shrink=0.05))\n",
    "\n",
    "plt.title('Scatter Plot of Two Lists with Means Highlighted')\n",
    "plt.xlabel('Index')\n",
    "plt.ylabel('Value')\n",
    "plt.legend()\n",
    "plt.grid(True)\n",
    "plt.show()\n"
   ]
  }
 ],
 "metadata": {
  "kernelspec": {
   "display_name": ".venv",
   "language": "python",
   "name": "python3"
  },
  "language_info": {
   "codemirror_mode": {
    "name": "ipython",
    "version": 3
   },
   "file_extension": ".py",
   "mimetype": "text/x-python",
   "name": "python",
   "nbconvert_exporter": "python",
   "pygments_lexer": "ipython3",
   "version": "3.9.6"
  }
 },
 "nbformat": 4,
 "nbformat_minor": 2
}
